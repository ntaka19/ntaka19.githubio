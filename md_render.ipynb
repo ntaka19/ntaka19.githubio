{
 "cells": [
  {
   "cell_type": "markdown",
   "metadata": {},
   "source": [
    "---\n",
    "layout: post\n",
    "title: Microeconomics (Basic)\n",
    "tags: \n",
    "- CFA1\n",
    "- Economics\n",
    "---\n",
    "\n",
    "<script src=\"https://cdn.mathjax.org/mathjax/latest/MathJax.js?config=TeX-AMS-MML_HTMLorMML\" type=\"text/javascript\"></script>\n",
    "Following article constitues mainly notes on prerequisite material on Ecnomomics given from the CFAI and can be found here:\n",
    "\n",
    "\n",
    "$$\n",
    "\\begin{align*}\n",
    "\\frac{\\partial \\theta}{\\partial t}= \\frac{\\partial}{\\partial z}\n",
    "\\left[ K(\\theta) \\left (\\frac{\\partial \\psi}{\\partial z} + 1 \\right) \\right]\\\n",
    "\\end{align*}\n",
    "$$\n",
    "\n",
    "\n",
    "## Revenue and Cost\n",
    "\n",
    "| Revenue | Cost |\n",
    "----|---- \n",
    "| Average Revenue  | Average Cost |\n",
    "| Marginal Revenue | TD4 |\n",
    "\n",
    "\n",
    "\n",
    "## Under Perfect competition\n",
    "\n",
    "$$\n",
    "\\begin{equation}\n",
    "Price = AR = MR\n",
    "\\end{equation}\n",
    "$$\n",
    "\n",
    "## Under Imperfect competition\n",
    "\n",
    "\n",
    "\n",
    "\n",
    "![_config.yml]({{ site.baseurl }}/images/config.png)\n",
    "\n"
   ]
  },
  {
   "cell_type": "code",
   "execution_count": null,
   "metadata": {},
   "outputs": [],
   "source": []
  }
 ],
 "metadata": {
  "kernelspec": {
   "display_name": "Python 3",
   "language": "python",
   "name": "python3"
  },
  "language_info": {
   "codemirror_mode": {
    "name": "ipython",
    "version": 3
   },
   "file_extension": ".py",
   "mimetype": "text/x-python",
   "name": "python",
   "nbconvert_exporter": "python",
   "pygments_lexer": "ipython3",
   "version": "3.7.6"
  }
 },
 "nbformat": 4,
 "nbformat_minor": 2
}
